{
 "cells": [
  {
   "cell_type": "markdown",
   "metadata": {},
   "source": [
    "grade: 6/6, great job!"
   ]
  },
  {
   "cell_type": "code",
   "execution_count": null,
   "metadata": {
    "ExecuteTime": {
     "end_time": "2018-11-20T00:18:24.673774Z",
     "start_time": "2018-11-20T00:18:24.387784Z"
    },
    "collapsed": true
   },
   "outputs": [],
   "source": [
    "%matplotlib inline \n",
    "import numpy as np                    # Import numpy under alias np\n",
    "import matplotlib.pyplot as plt       # Import matplotlib under alias plt"
   ]
  },
  {
   "cell_type": "markdown",
   "metadata": {},
   "source": [
    "## Define the fuction we want to take the integral of"
   ]
  },
  {
   "cell_type": "code",
   "execution_count": null,
   "metadata": {
    "ExecuteTime": {
     "end_time": "2018-11-20T00:18:25.448836Z",
     "start_time": "2018-11-20T00:18:25.445175Z"
    },
    "collapsed": true
   },
   "outputs": [],
   "source": [
    "def func(x):                                   # Define a function of x to find the numerical integral of \n",
    "    return np.exp(-2.0*x) * np.cos(10*x)       # Return f(x) = e^(-2x) * cos(10x)"
   ]
  },
  {
   "cell_type": "markdown",
   "metadata": {},
   "source": [
    "## Define the integral so we know the right answer "
   ]
  },
  {
   "cell_type": "code",
   "execution_count": null,
   "metadata": {
    "ExecuteTime": {
     "end_time": "2018-11-20T00:18:26.198435Z",
     "start_time": "2018-11-20T00:18:26.194638Z"
    },
    "collapsed": true
   },
   "outputs": [],
   "source": [
    "def func_integral(x):                                                         # Define the analytic integral of the original function     \n",
    "    return ((-1/52)*np.exp(-2.0*x)) * ((np.cos(10*x))-(5*np.sin(10*x)))       # Return f(x) = (-1/52)*e^(-2x) * (cos(10x)-5sin(10x))"
   ]
  },
  {
   "cell_type": "markdown",
   "metadata": {},
   "source": [
    "## Define the core of the trapezoid method"
   ]
  },
  {
   "cell_type": "code",
   "execution_count": null,
   "metadata": {
    "ExecuteTime": {
     "end_time": "2018-11-20T00:18:26.971003Z",
     "start_time": "2018-11-20T00:18:26.966526Z"
    },
    "collapsed": true
   },
   "outputs": [],
   "source": [
    "def trapezoid_core(f,x,h):             # Define the core function of the trapezoid method\n",
    "    return 0.5*h*(f(x+h) + f(x))       # Return 0.5h(f(x+h) + f(x))"
   ]
  },
  {
   "cell_type": "markdown",
   "metadata": {},
   "source": [
    "## Define a wrapper function to perform trapezoid method"
   ]
  },
  {
   "cell_type": "code",
   "execution_count": null,
   "metadata": {
    "ExecuteTime": {
     "end_time": "2018-11-20T00:18:27.724725Z",
     "start_time": "2018-11-20T00:18:27.718175Z"
    },
    "collapsed": true
   },
   "outputs": [],
   "source": [
    "def trapezoid_method(f,a,b,N):\n",
    "    # f == function to integrate \n",
    "    # a == lower limit of integration\n",
    "    # b == upper limit of integration \n",
    "    # N == number of function evaluations to use \n",
    "    \n",
    "    # Define x values to perform the trapezoid rule\n",
    "    x = np.linspace(a,b,N)      # Let x range from lower limit of integration to upper limit of integration with N evaluations\n",
    "    h = x[1] - x[0]             \n",
    "    \n",
    "    # Define the value of the integral\n",
    "    Fint = 0.0      \n",
    "    \n",
    "    # Perform the integral using the trapezoid method\n",
    "    for i in range(0,len(x)-1,1):\n",
    "        Fint += trapezoid_core(f,x[i],h)\n",
    "        \n",
    "    return Fint       # Return the value of Fint after N number of function evaluations "
   ]
  },
  {
   "cell_type": "markdown",
   "metadata": {},
   "source": [
    "## Define the core of the Simpson's Method"
   ]
  },
  {
   "cell_type": "code",
   "execution_count": null,
   "metadata": {
    "ExecuteTime": {
     "end_time": "2018-11-20T00:18:28.503768Z",
     "start_time": "2018-11-20T00:18:28.498984Z"
    },
    "collapsed": true
   },
   "outputs": [],
   "source": [
    "def simpson_core(f,x,h):                         # Define core function of Simpson's Method\n",
    "    return h*(f(x) + 4*f(x+h) + f(x+2*h))/3.     # Return h(f(x) +4f(x+h) + f(x+2h))/3"
   ]
  },
  {
   "cell_type": "markdown",
   "metadata": {},
   "source": [
    "## Define a wrapper function to perform the Simpson's Method"
   ]
  },
  {
   "cell_type": "code",
   "execution_count": null,
   "metadata": {
    "ExecuteTime": {
     "end_time": "2018-11-20T00:18:29.327779Z",
     "start_time": "2018-11-20T00:18:29.320258Z"
    },
    "collapsed": true
   },
   "outputs": [],
   "source": [
    "def simpsons_method(f,a,b,N):\n",
    "    # f == function to integrate \n",
    "    # a == lower limit of integration \n",
    "    # b == upper limit of integration \n",
    "    # N == number of function evaluations to use \n",
    "    # The number of chunks will be N-1\n",
    "    # If N is odd, then we do not need to adjust the last segment \n",
    "    \n",
    "    # Define x values to perform Simpson's Method\n",
    "    x = np.linspace(a,b,N)      # Let x range from lower limit of integration to upper limit of integration with N evaluations\n",
    "    h = x[1] - x[0]\n",
    "    \n",
    "    # Define the value of the integral \n",
    "    Fint = 0.0\n",
    "    \n",
    "    # Perform the integral using Simpson's Method \n",
    "    for i in range(0,len(x)-2,2):\n",
    "        Fint += simpson_core(f,x[i],h)\n",
    "        \n",
    "    # If N is even, apply Simpson's Method over the last interval \n",
    "    if((N%2)==0):\n",
    "        Fint += simpson_core(f,x[-2],0.5*h)\n",
    "        \n",
    "    return Fint"
   ]
  },
  {
   "cell_type": "markdown",
   "metadata": {},
   "source": [
    "## Define the Romberg Integration core"
   ]
  },
  {
   "cell_type": "code",
   "execution_count": null,
   "metadata": {
    "ExecuteTime": {
     "end_time": "2018-11-20T00:18:30.400197Z",
     "start_time": "2018-11-20T00:18:30.395718Z"
    },
    "collapsed": true
   },
   "outputs": [],
   "source": [
    "def romberg_core(f,a,b,i):\n",
    "    \n",
    "    h = b - a             # h is difference of b -a \n",
    "    \n",
    "    dh = h/2.**(i)        # We need the increment between new function evaluations \n",
    "     \n",
    "    K = h/2.**(i+1)       # And we need the cofactor\n",
    "    \n",
    "    M = 0.0               # And the function evaluations \n",
    "    for j in range(2**i):\n",
    "        M += f(a + 0.5*dh + j*dh)\n",
    "        \n",
    "    return K*M"
   ]
  },
  {
   "cell_type": "markdown",
   "metadata": {},
   "source": [
    "## Define a wrapper function to perform Romberg Integration"
   ]
  },
  {
   "cell_type": "code",
   "execution_count": null,
   "metadata": {
    "ExecuteTime": {
     "end_time": "2018-11-20T00:18:31.571166Z",
     "start_time": "2018-11-20T00:18:31.563629Z"
    },
    "collapsed": true
   },
   "outputs": [],
   "source": [
    "def romberg_integration(f,a,b,tol):\n",
    "    \n",
    "    # Define an iteration variable\n",
    "    i = 0 \n",
    "    \n",
    "    # Define a maximum number of iterations\n",
    "    imax = 1000\n",
    "    \n",
    "    # Define an error estimate, make it really big\n",
    "    delta = 100.0*np.fabs(tol)\n",
    "    \n",
    "    # Set an array of integral answers\n",
    "    I = np.zeros(imax,dtype=float)\n",
    "    \n",
    "    # Get the zeroth romberg iteration\n",
    "    I[0] = 0.5*(b-a)*(f(a) + f(b))\n",
    "    \n",
    "    # Iterate by 1\n",
    "    i += 1\n",
    "    \n",
    "    # Enter a while loop\n",
    "    while(delta>tol):\n",
    "        \n",
    "        # Find this romberg iteration\n",
    "        I[i] = 0.5*I[i-1] + romberg_core(f,a,b,i)\n",
    "        \n",
    "        # Compute the new fractional error estimate\n",
    "        delta = np.fabs((I[i]-I[i-1])/I[i])\n",
    "        \n",
    "        if(delta>tol):\n",
    "            \n",
    "            # Iterate by 1\n",
    "            i += 1\n",
    "            \n",
    "            # If we reach the maximum iterations\n",
    "            if(i>imax):\n",
    "                print(\"Maximum iterations reached.\")\n",
    "                raise StopIteration('Stopping iterations after ',i)\n",
    "    \n",
    "    s = \"This method took a total of %i iterations to reach specified accuracy\" % (i)\n",
    "    print(s)\n",
    "    \n",
    "    return I[i]"
   ]
  },
  {
   "cell_type": "markdown",
   "metadata": {},
   "source": [
    "## Calculate intervals needed for Trapeziod Method"
   ]
  },
  {
   "cell_type": "code",
   "execution_count": null,
   "metadata": {
    "ExecuteTime": {
     "end_time": "2018-11-20T00:18:35.740955Z",
     "start_time": "2018-11-20T00:18:34.230278Z"
    }
   },
   "outputs": [],
   "source": [
    "# Let s range between 4000 and 5000 function evaluations\n",
    "# To find the smallest number of intervals which gives us the desired accuracy\n",
    "for s in range(4000,5000):       # Condensed range based on actual answer found         \n",
    "    \n",
    "    trapezoid_intervals = trapezoid_method(func,0,np.pi,s)     # Use Trapezoid method with a range of function evaluations\n",
    "    \n",
    "    Answer = func_integral(np.pi) - func_integral(0)           # Defines the actual answer to the integral \n",
    "    \n",
    "    Accuracy = trapezoid_intervals - Answer                     # Defines accuracy between Simpson's method and actual answer\n",
    "   \n",
    "    tolerance = 1.0e-7                                         # Set tolerance\n",
    "    \n",
    "    if(np.fabs(Accuracy)<tolerance):       # If absolute value of accurancy is less than tolerance\n",
    "        \n",
    "        x = \"Trapezoid method needs %s intervals to reach specified accuracy\" % (s)\n",
    "        print(x)       # Print the resulting number of intervals\n",
    "        break"
   ]
  },
  {
   "cell_type": "markdown",
   "metadata": {},
   "source": [
    "## Calculate intervals needed for Simpson's Method"
   ]
  },
  {
   "cell_type": "code",
   "execution_count": null,
   "metadata": {
    "ExecuteTime": {
     "end_time": "2018-11-20T00:18:38.632581Z",
     "start_time": "2018-11-20T00:18:38.454557Z"
    }
   },
   "outputs": [],
   "source": [
    "# Let s range between 2 and 1000 function evaluations\n",
    "# To find the smallest number of intervals which gives us the desired accuracy\n",
    "for s in range(2,1000):       # Condensed range based on actual answer found\n",
    "    \n",
    "    simpsons_intervals = simpsons_method(func,0,np.pi,s)       # Use Simpson's method with a range of function evaluations\n",
    "    \n",
    "    Answer = func_integral(np.pi) - func_integral(0)           # Defines the actual answer to the integral \n",
    "    \n",
    "    Accuracy = simpsons_intervals - Answer                     # Defines accuracy between Simpson's method and actual answer\n",
    "   \n",
    "    tolerance = 1.0e-7                                         # Set tolerance\n",
    "        \n",
    "    if(np.fabs(Accuracy)<tolerance):       # If absolute value of accurancy is less than tolerance\n",
    "        \n",
    "        x = \"Simpson's method needs %s intervals to reach specified accuracy\" % (s)\n",
    "        print(x)       # Print the resulting number of intervals\n",
    "        break          # End the for loop "
   ]
  },
  {
   "cell_type": "markdown",
   "metadata": {},
   "source": [
    "## Print the numerical integrals "
   ]
  },
  {
   "cell_type": "code",
   "execution_count": null,
   "metadata": {
    "ExecuteTime": {
     "end_time": "2018-11-20T00:18:49.084339Z",
     "start_time": "2018-11-20T00:18:47.091592Z"
    }
   },
   "outputs": [],
   "source": [
    "Answer = func_integral(np.pi)-func_integral(0)\n",
    "\n",
    "print(\"Trapezoid Method:\")\n",
    "print(\"4053 intervals used to reach specified accuracy\")\n",
    "print(trapezoid_method(func,0,np.pi,4053))                 # Print numerical integral using Trapezoid Method\n",
    "\n",
    "\n",
    "print(\"Simpson's Method:\")\n",
    "print(\"239 intervals used to reach specified accuracy\")\n",
    "print(simpsons_method(func,0,np.pi,239))                   # Print numerical integral using Simpson's Method\n",
    "\n",
    "print(\"Romberg Integration:\")\n",
    "tolerance = 1.0e-4\n",
    "RI = romberg_integration(func,0,np.pi,tolerance)\n",
    "print(RI)                                                  # Print numerical integral using Romberg Method"
   ]
  },
  {
   "cell_type": "code",
   "execution_count": null,
   "metadata": {
    "collapsed": true
   },
   "outputs": [],
   "source": []
  }
 ],
 "metadata": {
  "kernelspec": {
   "display_name": "Python 3",
   "language": "python",
   "name": "python3"
  },
  "language_info": {
   "codemirror_mode": {
    "name": "ipython",
    "version": 3
   },
   "file_extension": ".py",
   "mimetype": "text/x-python",
   "name": "python",
   "nbconvert_exporter": "python",
   "pygments_lexer": "ipython3",
   "version": "3.6.1"
  }
 },
 "nbformat": 4,
 "nbformat_minor": 2
}
